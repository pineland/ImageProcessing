{
 "cells": [
  {
   "cell_type": "code",
   "execution_count": 2,
   "id": "21ef7172",
   "metadata": {},
   "outputs": [
    {
     "data": {
      "text/plain": [
       "-1"
      ]
     },
     "execution_count": 2,
     "metadata": {},
     "output_type": "execute_result"
    }
   ],
   "source": [
    "import numpy as np\n",
    "import cv2\n",
    "\n",
    "olive, violet, brown = (128, 128, 0), (221, 160, 221), (42, 42, 165)\n",
    "pt1, pt2 = (50, 200), (50, 260)                         # 문자열 위치 좌표\n",
    "\n",
    "image = np.zeros((300, 500, 3), np.uint8)\n",
    "image.fill(255)\n",
    "\n",
    "cv2.putText(image, \"SIMPLEX\", (50, 50) , cv2.FONT_HERSHEY_SIMPLEX, 2, brown)\n",
    "cv2.putText(image, \"DUPLEX\" , (50, 130), cv2.FONT_HERSHEY_DUPLEX , 5, olive)\n",
    "#cv2.putText(image, \"TRIPLEX\", pt1, cv2.FONT_HERSHEY_TRIPLEX, 2, violet)\n",
    "cv2.putText(image, \"테스트\", pt1, cv2.FONT_HERSHEY_TRIPLEX, 2, violet)\n",
    "fontFace = cv2.FONT_HERSHEY_PLAIN | cv2.FONT_ITALIC         # 글자체 상수\n",
    "cv2.putText(image, \"ITALIC\" , pt2, fontFace, 4, violet)\n",
    "\n",
    "cv2.imshow(\"Put Text\", image)\n",
    "cv2.waitKey(0)                                  # 키 이벤트 대기"
   ]
  },
  {
   "cell_type": "code",
   "execution_count": null,
   "id": "6391d4a4",
   "metadata": {},
   "outputs": [],
   "source": []
  }
 ],
 "metadata": {
  "kernelspec": {
   "display_name": "Python 3 (ipykernel)",
   "language": "python",
   "name": "python3"
  },
  "language_info": {
   "codemirror_mode": {
    "name": "ipython",
    "version": 3
   },
   "file_extension": ".py",
   "mimetype": "text/x-python",
   "name": "python",
   "nbconvert_exporter": "python",
   "pygments_lexer": "ipython3",
   "version": "3.8.5"
  }
 },
 "nbformat": 4,
 "nbformat_minor": 5
}
