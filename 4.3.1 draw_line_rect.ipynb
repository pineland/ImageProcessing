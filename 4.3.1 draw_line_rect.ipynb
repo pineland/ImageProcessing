{
 "cells": [
  {
   "cell_type": "code",
   "execution_count": 1,
   "id": "24dff10c",
   "metadata": {},
   "outputs": [],
   "source": [
    "import numpy as np\n",
    "import cv2\n",
    "\n",
    "blue, green, red = (255, 0, 0), (0, 255, 0), (0, 0, 255)    \t# 색상 선언\n",
    "image = np.zeros((400, 600, 3), np.uint8)    \t\t\t\t\t# 3채널 컬러 영상 생성\n",
    "image[:] = (255, 255, 255)\n",
    "\n",
    "pt1, pt2 = (50, 50), (250, 150)                   \t\t        # 좌표 선언 – 정수형 튜플\n",
    "pt3, pt4 = (400, 150), (500,  50)\n",
    "roi = 50, 200, 200, 100\n",
    "\n",
    "# 직선 그리기\n",
    "cv2.line(image, pt1, pt2, red)\n",
    "cv2.line(image, pt3, pt4, green, 3, cv2.LINE_AA)    \t\t\t# 계단 현상이 감소한 선\n",
    "\n",
    "# 사각형 그리기\n",
    "cv2.rectangle(image, pt1, pt2, blue, 3, cv2.LINE_4)             # 4방향 연결선\n",
    "cv2.rectangle(image, roi, red, 3, cv2.LINE_8 )                  # 내부 채움\n",
    "cv2.rectangle(image, (400, 200, 100, 100), green, cv2.FILLED )  # 내부 채움\n",
    "\n",
    "cv2.imshow('Line & Rectangle', image)\t\t\t\t\t\t\t# 윈도우에 영상 표시\n",
    "cv2.waitKey(0)\n",
    "cv2.destroyAllWindows()\t\t\t\t\t\t\t\t\t\t\t# 모든 열린 윈도우 닫기"
   ]
  },
  {
   "cell_type": "code",
   "execution_count": null,
   "id": "765eb446",
   "metadata": {},
   "outputs": [],
   "source": []
  }
 ],
 "metadata": {
  "kernelspec": {
   "display_name": "Python 3 (ipykernel)",
   "language": "python",
   "name": "python3"
  },
  "language_info": {
   "codemirror_mode": {
    "name": "ipython",
    "version": 3
   },
   "file_extension": ".py",
   "mimetype": "text/x-python",
   "name": "python",
   "nbconvert_exporter": "python",
   "pygments_lexer": "ipython3",
   "version": "3.8.5"
  }
 },
 "nbformat": 4,
 "nbformat_minor": 5
}
