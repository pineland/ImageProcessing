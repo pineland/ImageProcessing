{
 "cells": [
  {
   "cell_type": "code",
   "execution_count": 1,
   "id": "a842032d",
   "metadata": {},
   "outputs": [
    {
     "data": {
      "text/plain": [
       "-1"
      ]
     },
     "execution_count": 1,
     "metadata": {},
     "output_type": "execute_result"
    }
   ],
   "source": [
    "import numpy as np\n",
    "import cv2\n",
    "\n",
    "orange, blue, cyan = (0, 165, 255), (255, 0, 0), (255, 255, 0)\n",
    "white, black = (255, 255, 255), (0, 0, 0)         \n",
    "image = np.full((300, 500, 3), white, np.uint8)             # 컬러 영상 생성 및 초기화\n",
    "\n",
    "center = (image.shape[1]//2, image.shape[0]//2)         \t\t# 영상의 중심 좌표\n",
    "pt1, pt2 = (300, 50), (100, 220)\n",
    "shade = (pt2[0] + 2, pt2[1] + 2)                          # 그림자 좌표\n",
    "\n",
    "cv2.circle(image, center, 100, blue)                         # 원 그리기 \n",
    "cv2.circle(image, pt1   , 50 , orange, 2)\n",
    "cv2.circle(image, pt2   , 70 , cyan  , -1)                   # 원 내부 채움\n",
    "\n",
    "font = cv2.FONT_HERSHEY_COMPLEX;\n",
    "cv2.putText(image, \"center_blue\", center, font, 1.0, blue)\n",
    "cv2.putText(image, \"pt1_orange\", pt1, font, 0.8, orange)\n",
    "cv2.putText(image, \"pt2_cyan\",   shade, font, 1.2, black, 2)   # 그림자 효과\n",
    "cv2.putText(image, \"pt2_cyan\",   pt2, font, 1.2, cyan , 1)\n",
    "\n",
    "title = \"Draw circles\"\n",
    "cv2.namedWindow(title)\n",
    "cv2.imshow(title, image)\n",
    "cv2.waitKey(0)"
   ]
  },
  {
   "cell_type": "code",
   "execution_count": null,
   "id": "ebf5e1c7",
   "metadata": {},
   "outputs": [],
   "source": []
  }
 ],
 "metadata": {
  "kernelspec": {
   "display_name": "Python 3 (ipykernel)",
   "language": "python",
   "name": "python3"
  },
  "language_info": {
   "codemirror_mode": {
    "name": "ipython",
    "version": 3
   },
   "file_extension": ".py",
   "mimetype": "text/x-python",
   "name": "python",
   "nbconvert_exporter": "python",
   "pygments_lexer": "ipython3",
   "version": "3.8.5"
  }
 },
 "nbformat": 4,
 "nbformat_minor": 5
}
