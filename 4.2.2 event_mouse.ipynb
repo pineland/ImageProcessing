{
 "cells": [
  {
   "cell_type": "code",
   "execution_count": 1,
   "id": "0e1200a0",
   "metadata": {},
   "outputs": [
    {
     "name": "stdout",
     "output_type": "stream",
     "text": [
      "마우스 오른쪽 버튼 누르기\n",
      "마우스 오른쪽 버튼 떼기\n",
      "마우스 왼쪽 버튼 누르기\n",
      "마우스 오른쪽 버튼 누르기\n",
      "마우스 오른쪽 버튼 떼기\n"
     ]
    }
   ],
   "source": [
    "import numpy as np\n",
    "import cv2\n",
    "\n",
    "# 콜백 함수 : event값에 따른 마우스 버튼 종류 구분  \n",
    "def onMouse(event, x, y, flags, param):\n",
    "    if event == cv2.EVENT_LBUTTONDOWN:\n",
    "        print(\"마우스 왼쪽 버튼 누르기\")\n",
    "    elif event == cv2.EVENT_RBUTTONDOWN:\n",
    "        print(\"마우스 오른쪽 버튼 누르기\")\n",
    "    elif event == cv2.EVENT_RBUTTONUP:\n",
    "        print(\"마우스 오른쪽 버튼 떼기\")\n",
    "    elif event == cv2.EVENT_LBUTTONDBLCLK:\n",
    "        print(\"마우스 왼쪽 버튼 더블클릭\")\n",
    "\n",
    "image = np.full((200, 300), 255, np.uint8)          # 영상 생성\n",
    "\n",
    "title1, title2 = \"Mouse Event1\", \"Mouse Event2\"     # 윈도우 이름\n",
    "cv2.imshow(title1, image) # 영상 보기\n",
    "cv2.imshow(title2, image)\n",
    "\n",
    "cv2.setMouseCallback('Mouse Event1', onMouse)     \t# 마우스 콜백 함수\n",
    "cv2.waitKey(0)                                      # 키 이벤트 대기\n",
    "cv2.destroyAllWindows()                             # 열린 모든 윈도우 제거"
   ]
  },
  {
   "cell_type": "code",
   "execution_count": 2,
   "id": "8d091f55",
   "metadata": {},
   "outputs": [
    {
     "name": "stdout",
     "output_type": "stream",
     "text": [
      "마우스 오른쪽 버튼 누르기\n",
      "마우스 오른쪽 버튼 떼기\n",
      "마우스 왼쪽 버튼 누르기\n",
      "마우스 오른쪽 버튼 누르기\n",
      "마우스 오른쪽 버튼 떼기\n",
      "마우스 왼쪽 버튼 누르기\n",
      "마우스 오른쪽 버튼 누르기\n",
      "마우스 오른쪽 버튼 떼기\n",
      "마우스 왼쪽 버튼 누르기\n",
      "마우스 왼쪽 버튼 누르기\n",
      "마우스 오른쪽 버튼 누르기\n",
      "마우스 오른쪽 버튼 떼기\n"
     ]
    }
   ],
   "source": [
    "import numpy as np\n",
    "import cv2\n",
    "\n",
    "# 콜백 함수 : event값에 따른 마우스 버튼 종류 구분  \n",
    "def onMouse(event, x, y, flags, param):\n",
    "    if event == cv2.EVENT_LBUTTONDOWN:\n",
    "        print(\"마우스 왼쪽 버튼 누르기\")\n",
    "    elif event == cv2.EVENT_RBUTTONDOWN:\n",
    "        print(\"마우스 오른쪽 버튼 누르기\")\n",
    "    elif event == cv2.EVENT_RBUTTONUP:\n",
    "        print(\"마우스 오른쪽 버튼 떼기\")\n",
    "    elif event == cv2.EVENT_LBUTTONDBLCLK:\n",
    "        print(\"마우스 왼쪽 버튼 더블클릭\")\n",
    "\n",
    "def onMouse1(event, x, y, flags, param):\n",
    "    if event == cv2.EVENT_LBUTTONDOWN:\n",
    "        print(\"마우스 왼쪽 버튼 누르기\")\n",
    "    elif event == cv2.EVENT_RBUTTONDOWN:\n",
    "        print(\"마우스 오른쪽 버튼 누르기\")\n",
    "    elif event == cv2.EVENT_RBUTTONUP:\n",
    "        print(\"마우스 오른쪽 버튼 떼기\")\n",
    "    elif event == cv2.EVENT_LBUTTONDBLCLK:\n",
    "        print(\"마우스 왼쪽 버튼 더블클릭\")\n",
    "        \n",
    "image = np.full((200, 300), 255, np.uint8)          # 영상 생성\n",
    "\n",
    "title1, title2 = \"Mouse Event1\", \"Mouse Event2\"     # 윈도우 이름\n",
    "cv2.imshow(title1, image) # 영상 보기\n",
    "cv2.imshow(title2, image)\n",
    "\n",
    "cv2.setMouseCallback('Mouse Event1', onMouse)     \t# 마우스 콜백 함수\n",
    "cv2.setMouseCallback('Mouse Event2', onMouse)     \t# 마우스 콜백 함수\n",
    "cv2.waitKey(0)                                      # 키 이벤트 대기\n",
    "cv2.destroyAllWindows()                             # 열린 모든 윈도우 제거"
   ]
  },
  {
   "cell_type": "code",
   "execution_count": null,
   "id": "7fc51f72",
   "metadata": {},
   "outputs": [],
   "source": []
  }
 ],
 "metadata": {
  "kernelspec": {
   "display_name": "Python 3 (ipykernel)",
   "language": "python",
   "name": "python3"
  },
  "language_info": {
   "codemirror_mode": {
    "name": "ipython",
    "version": 3
   },
   "file_extension": ".py",
   "mimetype": "text/x-python",
   "name": "python",
   "nbconvert_exporter": "python",
   "pygments_lexer": "ipython3",
   "version": "3.10.3"
  }
 },
 "nbformat": 4,
 "nbformat_minor": 5
}
