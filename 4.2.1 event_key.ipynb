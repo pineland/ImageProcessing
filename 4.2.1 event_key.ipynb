{
 "cells": [
  {
   "cell_type": "code",
   "execution_count": 1,
   "id": "e9057814",
   "metadata": {},
   "outputs": [
    {
     "name": "stderr",
     "output_type": "stream",
     "text": [
      "C:\\Users\\ADMIN\\AppData\\Local\\Temp\\ipykernel_13340\\1112291741.py:16: DeprecationWarning: `np.float` is a deprecated alias for the builtin `float`. To silence this warning, use `float` by itself. Doing this will not modify any behavior and is safe. If you specifically wanted the numpy scalar type, use `np.float64` here.\n",
      "Deprecated in NumPy 1.20; for more details and guidance: https://numpy.org/devdocs/release/1.20.0-notes.html#deprecations\n",
      "  image = np.ones((200, 300), np.float)      \t# 화소값이 1인 행렬 생성\n"
     ]
    },
    {
     "name": "stdout",
     "output_type": "stream",
     "text": [
      "아래쪽 화살표키 입력\n",
      "오른쪽 화살표키 입력\n",
      "왼쪽 화살표키 입력\n",
      "윗쪽 화살표키 입력\n"
     ]
    }
   ],
   "source": [
    "import numpy as np\n",
    "import cv2\n",
    "\n",
    "## switch case문을 사전(dictionary)으로 구현\n",
    "switch_case = {\n",
    "  ord('a'): \"a키 입력\",               \t\t# ord() 함수- 문자를 입력받고 해당 문자에 해당하는 유니코드 정수를 반환\n",
    "  ord('b'): \"b키 입력\",\n",
    "  0x41: \"A키 입력\",\n",
    "  int('0x42', 16): \"B키 입력\",          \t\t# 16진수인 0x42를 10진수로 변환하면 66임\n",
    "  2424832: \"왼쪽 화살표키 입력\",      \t\t    # 0x250000\n",
    "  2490368: \"윗쪽 화살표키 입력\",      \t\t    # 0x260000\n",
    "  2555904: \"오른쪽 화살표키 입력\",    \t\t    # 0x270000\n",
    "  2621440: \"아래쪽 화살표키 입력\"        \t\t# 0x280000\n",
    "}\n",
    "\n",
    "image = np.ones((200, 300), np.float)      \t# 화소값이 1인 행렬 생성\n",
    "cv2.namedWindow('Keyboard Event')\t\t\t# 윈도우 이름\n",
    "cv2.imshow('Keyboard Event', image)\n",
    "\n",
    "while True:\t\t\t\t\t\t\t\t\t# 무한 반복\n",
    "    key = cv2.waitKeyEx(100)          \t\t# 100ms 동안 키 이벤트 대기\n",
    "    if key == 27: break                \t\t# ESC 키 누르면 종료\n",
    "\n",
    "    try:\n",
    "        result = switch_case[key]\n",
    "        print(result)\n",
    "    except KeyError:\n",
    "        result = -1\n",
    "\n",
    "cv2.destroyAllWindows()                 \t# 열린 모든 윈도우 제거"
   ]
  },
  {
   "cell_type": "code",
   "execution_count": null,
   "id": "afdd6577",
   "metadata": {},
   "outputs": [],
   "source": []
  }
 ],
 "metadata": {
  "kernelspec": {
   "display_name": "Python 3 (ipykernel)",
   "language": "python",
   "name": "python3"
  },
  "language_info": {
   "codemirror_mode": {
    "name": "ipython",
    "version": 3
   },
   "file_extension": ".py",
   "mimetype": "text/x-python",
   "name": "python",
   "nbconvert_exporter": "python",
   "pygments_lexer": "ipython3",
   "version": "3.10.3"
  }
 },
 "nbformat": 4,
 "nbformat_minor": 5
}
