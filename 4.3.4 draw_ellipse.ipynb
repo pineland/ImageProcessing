{
 "cells": [
  {
   "cell_type": "code",
   "execution_count": 1,
   "id": "827e582d",
   "metadata": {},
   "outputs": [
    {
     "data": {
      "text/plain": [
       "-1"
      ]
     },
     "execution_count": 1,
     "metadata": {},
     "output_type": "execute_result"
    }
   ],
   "source": [
    "import numpy as np\n",
    "import cv2\n",
    "\n",
    "orange, blue, white = (0, 165, 255), (255, 0, 0), (255,255,255) # 색상 지정\n",
    "image = np.full((300, 700, 3), white, np.uint8)\n",
    "\n",
    "pt1, pt2 = (180, 150), (550, 150)                       # 타원 중심점\n",
    "size = (120, 60)                                        # 타원 크기 - 반지름 값임\n",
    "\n",
    "cv2.circle(image, pt1, 1, 0, 2)                         # 타원의 중심점(2화소 원) 표시\n",
    "cv2.circle(image, pt2, 1, 0, 2)\n",
    "\n",
    "cv2.ellipse(image, pt1, size,  0, 0, 360, blue, 1)      # 타원 그리기\n",
    "cv2.ellipse(image, pt2, size, 90, 0, 360, blue, 1)\n",
    "cv2.ellipse(image, pt1, size,  0, 30, 270, orange, 4)   # 호 그리기\n",
    "cv2.ellipse(image, pt2, size, 90,-45,  90, orange, 4)\n",
    "\n",
    "cv2.imshow(\"Draw Eclipse & Arc\", image)\n",
    "cv2.waitKey()                                           # 키입력 대기"
   ]
  },
  {
   "cell_type": "code",
   "execution_count": null,
   "id": "8fc2c785",
   "metadata": {},
   "outputs": [],
   "source": []
  }
 ],
 "metadata": {
  "kernelspec": {
   "display_name": "Python 3 (ipykernel)",
   "language": "python",
   "name": "python3"
  },
  "language_info": {
   "codemirror_mode": {
    "name": "ipython",
    "version": 3
   },
   "file_extension": ".py",
   "mimetype": "text/x-python",
   "name": "python",
   "nbconvert_exporter": "python",
   "pygments_lexer": "ipython3",
   "version": "3.8.5"
  }
 },
 "nbformat": 4,
 "nbformat_minor": 5
}
