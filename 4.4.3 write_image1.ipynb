{
 "cells": [
  {
   "cell_type": "code",
   "execution_count": 1,
   "id": "d096e020",
   "metadata": {},
   "outputs": [
    {
     "name": "stdout",
     "output_type": "stream",
     "text": [
      "저장 완료\n"
     ]
    }
   ],
   "source": [
    "import cv2\n",
    "\n",
    "image = cv2.imread(\"images/read_color.jpg\", cv2.IMREAD_COLOR)\n",
    "if image is None: raise Exception(\"영상 파일 읽기 에러\")\n",
    "    \n",
    "params_jpg = (cv2.IMWRITE_JPEG_QUALITY, 10)        # JPEG 화질 설정\n",
    "params_png = [cv2.IMWRITE_PNG_COMPRESSION, 9]       # PNG 압축 레벨 설정\n",
    "\n",
    "## 행렬을 영상 파일로 저장\n",
    "cv2.imwrite(\"images/write_test1.jpg\", image)       # 디폴트는 95\n",
    "cv2.imwrite(\"images/write_test2.jpg\", image, params_jpg) # 지정 화질로 저장\n",
    "cv2.imwrite(\"images/write_test3.png\", image, params_png)\n",
    "cv2.imwrite(\"iamges/write_test4.bmp\", image)         # BMP 파일로 저장\n",
    "print(\"저장 완료\")"
   ]
  },
  {
   "cell_type": "code",
   "execution_count": null,
   "id": "3182252f",
   "metadata": {},
   "outputs": [],
   "source": []
  }
 ],
 "metadata": {
  "kernelspec": {
   "display_name": "Python 3 (ipykernel)",
   "language": "python",
   "name": "python3"
  },
  "language_info": {
   "codemirror_mode": {
    "name": "ipython",
    "version": 3
   },
   "file_extension": ".py",
   "mimetype": "text/x-python",
   "name": "python",
   "nbconvert_exporter": "python",
   "pygments_lexer": "ipython3",
   "version": "3.8.5"
  }
 },
 "nbformat": 4,
 "nbformat_minor": 5
}
