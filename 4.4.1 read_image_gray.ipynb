{
 "cells": [
  {
   "cell_type": "code",
   "execution_count": null,
   "id": "63d97d76",
   "metadata": {},
   "outputs": [
    {
     "name": "stdout",
     "output_type": "stream",
     "text": [
      "행렬 좌표 (100, 100) 화소값\n",
      "gray2gray 106\n",
      "gray2color [106 106 106]\n",
      "\n",
      "   gray2gray: depth(uint8), channels(1) -> mat_type(CV_8UC1)\n",
      "  gray2color: depth(uint8), channels(3) -> mat_type(CV_8UC3)\n"
     ]
    }
   ],
   "source": [
    "import cv2\n",
    "\n",
    "def print_matInfo(name, image):\n",
    "    if image.dtype == 'uint8':     mat_type = \"CV_8U\"\n",
    "    elif image.dtype == 'int8':    mat_type = \"CV_8S\"\n",
    "    elif image.dtype == 'uint16':  mat_type = \"CV_16U\"\n",
    "    elif image.dtype == 'int16':   mat_type = \"CV_16S\"\n",
    "    elif image.dtype == 'float32': mat_type = \"CV_32F\"\n",
    "    elif image.dtype == 'float64': mat_type = \"CV_64F\"\n",
    "    nchannel = 3 if image.ndim == 3 else 1\n",
    "\n",
    "    ## depth, channel 출력\n",
    "    print(\"%12s: depth(%s), channels(%s) -> mat_type(%sC%d)\"\n",
    "          % (name, image.dtype, nchannel, mat_type,  nchannel))\n",
    "\n",
    "title1, title2 = \"gray2gray\", \"gray2color\"      # 윈도우 이름\n",
    "gray2gray  = cv2.imread(\"images/read_gray.jpg\", cv2.IMREAD_GRAYSCALE) # 영상 파일 적재\n",
    "gray2color = cv2.imread(\"images/read_gray.jpg\", cv2.IMREAD_COLOR)\n",
    "\n",
    "if (gray2gray is None or gray2color is None) :  # 예외처리 -영상 파일 읽기 여부 조사\n",
    "    raise Exception(\"영상파일 읽기 에러\")\n",
    "\n",
    "# 행렬 내 한 화소 값 표시\n",
    "print(\"행렬 좌표 (100, 100) 화소값\")\n",
    "print(\"%s %s\" % (title1, gray2gray[100, 100]))\n",
    "print(\"%s %s\\n\" % (title2, gray2color[100, 100]))\n",
    "\n",
    "print_matInfo(title1, gray2gray)\n",
    "print_matInfo(title2, gray2color)\n",
    "\n",
    "cv2.imshow(title1, gray2gray)\n",
    "cv2.imshow(title2, gray2color)\n",
    "cv2.waitKey(0)"
   ]
  },
  {
   "cell_type": "code",
   "execution_count": null,
   "id": "b1c49227",
   "metadata": {},
   "outputs": [],
   "source": []
  }
 ],
 "metadata": {
  "kernelspec": {
   "display_name": "Python 3 (ipykernel)",
   "language": "python",
   "name": "python3"
  },
  "language_info": {
   "codemirror_mode": {
    "name": "ipython",
    "version": 3
   },
   "file_extension": ".py",
   "mimetype": "text/x-python",
   "name": "python",
   "nbconvert_exporter": "python",
   "pygments_lexer": "ipython3",
   "version": "3.8.5"
  }
 },
 "nbformat": 4,
 "nbformat_minor": 5
}
