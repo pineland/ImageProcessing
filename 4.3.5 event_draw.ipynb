{
 "cells": [
  {
   "cell_type": "code",
   "execution_count": null,
   "id": "53e61a41",
   "metadata": {},
   "outputs": [],
   "source": [
    "import numpy as np\n",
    "import cv2\n",
    "\n",
    "def onMouse(event, x, y, flags, param):\n",
    "    global title, pt                            # 전역 변수 참조\n",
    "\n",
    "    if event == cv2.EVENT_LBUTTONDOWN:\n",
    "        if pt[0] < 0:\n",
    "            pt = (x, y)                         # 시작 좌표 지정\n",
    "        else:\n",
    "            cv2.rectangle(image, pt, (x, y), (255,0,0), 2)\n",
    "            cv2.imshow(title, image)\n",
    "            pt = (-1, -1)                       # 시작 좌표 초기화\n",
    "            \n",
    "    elif event == cv2.EVENT_RBUTTONDOWN:\n",
    "        if pt[0] < 0: pt = (x, y)\n",
    "        else:\n",
    "            dx, dy = pt[0] - x, pt[1] - y       # 두 좌표 간의 거리\n",
    "            radius = int(np.sqrt(dx * dx + dy * dy))\n",
    "            cv2.circle(image, pt, radius, (0,0,255), 2)\n",
    "            cv2.imshow(title, image)\n",
    "            pt = (-1, -1)                       # 시작 좌표 초기화\n",
    "\n",
    "image = np.full((300, 500, 3), (255, 255, 255), np.uint8) # 흰색 배경 영상\n",
    "\n",
    "pt = (-1, -1)                                   # 시작 좌표 초기화\n",
    "title = \"Draw Event\"\n",
    "cv2.imshow(title, image)                        # 윈도우에 영상 띄우기\n",
    "cv2.setMouseCallback(title, onMouse)            # 마우스 콜백 함수 등록\n",
    "cv2.waitKey(0)"
   ]
  },
  {
   "cell_type": "code",
   "execution_count": null,
   "id": "f925d7a9",
   "metadata": {},
   "outputs": [],
   "source": []
  }
 ],
 "metadata": {
  "kernelspec": {
   "display_name": "Python 3 (ipykernel)",
   "language": "python",
   "name": "python3"
  },
  "language_info": {
   "codemirror_mode": {
    "name": "ipython",
    "version": 3
   },
   "file_extension": ".py",
   "mimetype": "text/x-python",
   "name": "python",
   "nbconvert_exporter": "python",
   "pygments_lexer": "ipython3",
   "version": "3.8.5"
  }
 },
 "nbformat": 4,
 "nbformat_minor": 5
}
