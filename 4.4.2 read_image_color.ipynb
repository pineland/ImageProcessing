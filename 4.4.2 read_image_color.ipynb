{
 "cells": [
  {
   "cell_type": "code",
   "execution_count": null,
   "id": "b4e00000",
   "metadata": {},
   "outputs": [
    {
     "name": "stdout",
     "output_type": "stream",
     "text": [
      "행렬 좌표 (100, 100) 화소값\n",
      "color2gray 137\n",
      "color2color [197 145  98]\n",
      "\n",
      "  color2gray: depth(uint8), channels(1) -> mat_type(CV_8UC1)\n",
      " color2color: depth(uint8), channels(3) -> mat_type(CV_8UC3)\n"
     ]
    }
   ],
   "source": [
    "import cv2\n",
    "\n",
    "from Common.utils import print_matInfo  # 행렬 정보 출력 함수를 불러오기\n",
    "\n",
    "title1, title2 = \"color2gray\", \"color2color\"\n",
    "color2gray = cv2.imread(\"images/read_color.jpg\", cv2.IMREAD_GRAYSCALE)\n",
    "color2color = cv2.imread(\"images/read_color.jpg\", cv2.IMREAD_COLOR)\n",
    "if color2gray is None or color2color is None:\n",
    "    raise Exception(\"영상 파일 읽기 에러\")\n",
    "\n",
    "print(\"행렬 좌표 (100, 100) 화소값\")\n",
    "print(\"%s %s\" % (title1, color2gray[100, 100]))     # 한 화소값 표시\n",
    "print(\"%s %s\\n\" % (title2, color2color[100, 100]))\n",
    "\n",
    "print_matInfo(title1, color2gray)                   # 행렬 정보 출력\n",
    "print_matInfo(title2, color2color)\n",
    "cv2.imshow(title1, color2gray)                      # 행렬 정보 영상으로 띄우기\n",
    "cv2.imshow(title2, color2color)\n",
    "cv2.waitKey(0)"
   ]
  },
  {
   "cell_type": "code",
   "execution_count": null,
   "id": "300ce06e",
   "metadata": {},
   "outputs": [],
   "source": []
  }
 ],
 "metadata": {
  "kernelspec": {
   "display_name": "Python 3 (ipykernel)",
   "language": "python",
   "name": "python3"
  },
  "language_info": {
   "codemirror_mode": {
    "name": "ipython",
    "version": 3
   },
   "file_extension": ".py",
   "mimetype": "text/x-python",
   "name": "python",
   "nbconvert_exporter": "python",
   "pygments_lexer": "ipython3",
   "version": "3.8.5"
  }
 },
 "nbformat": 4,
 "nbformat_minor": 5
}
