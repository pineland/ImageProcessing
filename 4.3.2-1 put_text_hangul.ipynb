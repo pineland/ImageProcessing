{
 "cells": [
  {
   "cell_type": "code",
   "execution_count": 1,
   "id": "4c3a795f",
   "metadata": {},
   "outputs": [],
   "source": [
    "import cv2 \n",
    "import numpy as np \n",
    "\n",
    "img = np.full(shape=(512,512,3),fill_value=255,dtype=np.uint8) \n",
    "org=(50,100) \n",
    "font=cv2.FONT_HERSHEY_SIMPLEX \n",
    "cv2.putText(img,\"Hello OpenCV!(한글)\",org,font,1,(255,0,0),2) \n",
    "\n",
    "cv2.imshow(\"test\",img) \n",
    "cv2.waitKey() \n",
    "cv2.destroyAllWindows()"
   ]
  },
  {
   "cell_type": "code",
   "execution_count": 2,
   "id": "19435603",
   "metadata": {},
   "outputs": [],
   "source": [
    "# 한글 깨짐현상 해결\n",
    "import cv2 \n",
    "import numpy as np \n",
    "\n",
    "from PIL import Image, ImageDraw, ImageFont \n",
    "\n",
    "img = np.full(shape=(512,512,3),fill_value=255,dtype=np.uint8) \n",
    "img = Image.fromarray(img)     #img배열을 PIL이 처리가능하게 변환 \n",
    "draw = ImageDraw.Draw(img) \n",
    "\n",
    "org=(50,100) \n",
    "font=ImageFont.truetype(\"fonts/gulim.ttc\",30) \n",
    "draw.text(org,\"Hello OpenCV!(한글)\",font=font,fill=(255,0,0))  \n",
    "img = np.array(img)            # 다시 OpenCV가 처리가능하게 np 배열로 변환 \n",
    "\n",
    "cv2.imshow(\"test\",img) \n",
    "cv2.waitKey() \n",
    "cv2.destroyAllWindows()"
   ]
  },
  {
   "cell_type": "code",
   "execution_count": null,
   "id": "473a1210",
   "metadata": {},
   "outputs": [],
   "source": []
  }
 ],
 "metadata": {
  "kernelspec": {
   "display_name": "Python 3 (ipykernel)",
   "language": "python",
   "name": "python3"
  },
  "language_info": {
   "codemirror_mode": {
    "name": "ipython",
    "version": 3
   },
   "file_extension": ".py",
   "mimetype": "text/x-python",
   "name": "python",
   "nbconvert_exporter": "python",
   "pygments_lexer": "ipython3",
   "version": "3.8.5"
  }
 },
 "nbformat": 4,
 "nbformat_minor": 5
}
