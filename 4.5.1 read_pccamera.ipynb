{
 "cells": [
  {
   "cell_type": "code",
   "execution_count": 1,
   "id": "761b63ff",
   "metadata": {},
   "outputs": [
    {
     "name": "stdout",
     "output_type": "stream",
     "text": [
      "너비 640\n",
      "높이 480\n",
      "노출 -6\n",
      "밝기 64\n"
     ]
    }
   ],
   "source": [
    "import cv2\n",
    "\n",
    "def put_string(frame, text, pt, value, color=(120, 200, 90)):             # 문자열 출력 함수 - 그림자 효과\n",
    "    text += str(value)\n",
    "    shade = (pt[0] + 2, pt[1] + 2)\n",
    "    font = cv2.FONT_HERSHEY_SIMPLEX\n",
    "    cv2.putText(frame, text, shade, font, 0.7, (0, 0, 0), 2)  # 그림자 효과\n",
    "    cv2.putText(frame, text, pt, font, 0.7, (120, 200, 90), 2)  # 글자 적기\n",
    "\n",
    "capture = cv2.VideoCapture(0)  # 0번 카메라 연결\n",
    "if capture.isOpened() == False:\n",
    "    raise Exception(\"카메라 연결 안됨\")\n",
    "\n",
    "# 카메라 속성 획득 및 출력\n",
    "print(\"너비 %d\" % capture.get(cv2.CAP_PROP_FRAME_WIDTH))\n",
    "print(\"높이 %d\" % capture.get(cv2.CAP_PROP_FRAME_HEIGHT))\n",
    "print(\"노출 %d\" % capture.get(cv2.CAP_PROP_EXPOSURE))\n",
    "print(\"밝기 %d\" % capture.get(cv2.CAP_PROP_BRIGHTNESS))\n",
    "\n",
    "while True:  # 무한 반복\n",
    "    ret, frame = capture.read()  # 카메라 영상 받기\n",
    "    if not ret: break\n",
    "    if cv2.waitKey(30) >= 0: break  # 스페이스키 누르면 종료\n",
    "\n",
    "    exposure = capture.get(cv2.CAP_PROP_EXPOSURE)\n",
    "    put_string(frame, \"EXPOS: \", (10, 40), exposure)\n",
    "    title = \"View Frame from Camera\"\n",
    "    cv2.imshow(title, frame)  # 윈도우에 영상 띄우기\n",
    "capture.release()\n",
    "cv2.destroyAllWindows()"
   ]
  },
  {
   "cell_type": "code",
   "execution_count": null,
   "id": "065a12c5",
   "metadata": {},
   "outputs": [],
   "source": []
  }
 ],
 "metadata": {
  "kernelspec": {
   "display_name": "Python 3 (ipykernel)",
   "language": "python",
   "name": "python3"
  },
  "language_info": {
   "codemirror_mode": {
    "name": "ipython",
    "version": 3
   },
   "file_extension": ".py",
   "mimetype": "text/x-python",
   "name": "python",
   "nbconvert_exporter": "python",
   "pygments_lexer": "ipython3",
   "version": "3.8.5"
  }
 },
 "nbformat": 4,
 "nbformat_minor": 5
}
